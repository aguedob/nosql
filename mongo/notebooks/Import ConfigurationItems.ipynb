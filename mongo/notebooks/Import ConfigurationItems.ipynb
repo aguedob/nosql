{
 "cells": [
  {
   "cell_type": "code",
   "execution_count": 1,
   "metadata": {},
   "outputs": [
    {
     "data": {
      "text/plain": [
       "'ci_id,name,device_type,env,ip_address\\n79,admirablerole.local,ip_phone,stg,149.187.243.207\\n23,adorablehitch.local,switch,stg,34.89.1.73\\n31,alertcall.local,router,stg,206.67.228.180\\n26,angrylink.local,router,dev,14.34.207.247\\n17,austeredear.local,server,dev,185.206.227.93\\n68,backelect.local,ip_phone,dev,137.45.34.212\\n59,black-and-whiteplate.local,ip_phone,dev,225.223.144.179\\n78,bonyazure.local,router,stg,30.53.59.151\\n67,brilliantshoes.local,switch,stg,17.84.7.54\\n11,brokentoss.local,switch,dev,68.236.234.252\\n42,buzzingwake.local,switch,stg,98.255.139.239\\n89,carelessgleam.local,switch,dev,15.21.72.245\\n99,celebratedday.local,router,stg,189.136.106.139\\n86,classicslang.local,server,dev,249.207.252.87\\n85,commoncrumb.local,switch,dev,56.247.208.16\\n92,courteousbelch.local,switch,prod,31.116.154.214\\n61,cruelrig.local,router,stg,31.210.202.165\\n96,cutestep.local,switch,prod,90.210.12.159\\n24,defenselessstoic.local,router,dev,244.184.7.86\\n75,defiantawl.local,ip_phone,stg,94.93.191.82\\n46,devotedmock.local,ip_phone,dev,234.52.181.14\\n91,discreteexit.local,server,prod,55.216.78.239\\n35,dopeycell.local,server,dev,3.170.122.46\\n8,extraneousbent.local,server,prod,240.78.101.151\\n27,filthybye.local,router,stg,37.22.15.63\\n40,frigidkiwi.local,server,prod,172.243.43.4\\n82,generalchug.local,router,dev,84.43.134.38\\n88,gigantictrout.local,ip_phone,stg,43.49.35.79\\n10,givingpromo.local,switch,dev,3.165.248.18\\n53,grotesqueforty.local,server,prod,53.52.115.224\\n100,grouchybaker.local,server,prod,16.56.85.90\\n77,grouchydrain.local,switch,dev,230.97.252.142\\n49,heftystrum.local,server,prod,112.239.17.128\\n72,helpfulduet.local,server,stg,139.227.131.53\\n16,hospitablegear.local,ip_phone,prod,134.122.248.239\\n47,imperturbableargus.local,switch,dev,99.81.150.78\\n1,impossiblejamb.local,switch,dev,97.206.53.89\\n19,infatuatedomega.local,server,dev,3.59.148.24\\n95,internalmetal.local,ip_phone,stg,175.122.22.53\\n76,jaggednomad.local,ip_phone,prod,21.203.190.110\\n5,lastbuyer.local,switch,dev,174.70.111.44\\n94,lovableamber.local,ip_phone,stg,241.55.192.19\\n57,mistyadder.local,switch,prod,241.90.57.136\\n93,moiststoic.local,ip_phone,stg,120.181.162.41\\n56,moralhug.local,router,stg,140.104.180.7\\n9,neglectedmouse.local,server,stg,19.84.115.110\\n63,negligibleweave.local,ip_phone,stg,108.143.161.85\\n66,nimbleoak.local,ip_phone,dev,59.76.20.178\\n74,nocturnalsense.local,router,dev,58.218.163.8\\n12,obesething.local,ip_phone,stg,226.43.221.179\\n22,offbeatbongo.local,switch,dev,159.164.88.7\\n69,organicledge.local,switch,prod,135.26.129.83\\n21,overduestalk.local,ip_phone,prod,55.80.182.226\\n64,palehoagy.local,server,dev,232.128.43.187\\n32,plainname.local,switch,prod,190.55.250.66\\n20,powerfulsave.local,ip_phone,prod,1.30.150.252\\n50,prizeawl.local,router,dev,136.81.100.70\\n7,productivetrue.local,server,dev,6.2.24.168\\n28,quarrelsomemule.local,router,stg,74.138.143.187\\n6,rapidhinge.local,switch,prod,99.73.99.177\\n80,rapidresin.local,ip_phone,prod,178.43.169.125\\n18,roundflush.local,switch,prod,144.18.78.245\\n2,rubberyclock.local,switch,stg,244.218.216.63\\n45,rudedrier.local,ip_phone,prod,206.220.233.61\\n15,scarceshore.local,router,stg,122.67.229.14\\n33,scornfulokay.local,switch,stg,61.38.39.94\\n60,shimmeringtomb.local,server,prod,103.232.177.223\\n71,shortsun.local,switch,dev,44.23.42.185\\n36,shyfreak.local,router,stg,164.227.129.175\\n44,slowquest.local,ip_phone,stg,162.94.53.185\\n25,softsick.local,switch,stg,209.87.88.166\\n73,soupyperil.local,ip_phone,stg,176.247.232.223\\n84,spottedbody.local,server,dev,137.230.215.235\\n37,squarenasal.local,server,prod,138.105.51.172\\n55,sweatyrough.local,switch,dev,134.118.126.95\\n34,tastydue.local,router,stg,16.194.116.202\\n39,tediouslat.local,server,prod,141.24.48.223\\n30,thatmute.local,router,dev,144.227.7.170\\n29,thoroughlie.local,switch,dev,129.159.180.23\\n51,troubledcurd.local,router,dev,166.219.180.231\\n83,unkemptchard.local,switch,dev,195.96.229.236\\n48,unluckypiles.local,switch,dev,230.196.85.133\\n65,unsungsugar.local,server,dev,178.131.27.91\\n70,unwelcomestalk.local,switch,dev,142.120.68.33\\n90,urbanfast.local,server,stg,193.232.38.61\\n87,usefulname.local,server,prod,86.18.111.252\\n13,usefulrig.local,ip_phone,stg,200.94.185.8\\n14,vengefulpick.local,server,stg,246.74.110.24\\n43,victoriousneck.local,ip_phone,dev,130.201.92.74\\n98,vivaciousjunk.local,switch,prod,187.52.85.228\\n52,wanexile.local,switch,prod,82.182.152.92\\n41,warpedfumes.local,router,dev,187.235.254.194\\n54,webbedsmile.local,ip_phone,prod,85.41.21.137\\n62,wide-eyedcheek.local,switch,dev,238.185.159.76\\n38,worriedcoast.local,ip_phone,dev,105.226.16.131\\n97,worrisomeflare.local,ip_phone,stg,22.76.249.204\\n4,worstblip.local,ip_phone,prod,4.5.243.9\\n3,wrytug.local,router,stg,128.78.209.142\\n58,zanydip.local,server,dev,41.41.236.193\\n81,zestycold.local,switch,dev,133.72.201.123\\n'"
      ]
     },
     "execution_count": 1,
     "metadata": {},
     "output_type": "execute_result"
    }
   ],
   "source": [
    "import pandas as pd\n",
    "ci_df = pd.read_json(\"../sql/Configuration_Item.json\")\n",
    "attributes_df = pd.read_json(\"../sql/Attribute.json\")\n",
    "ci_att_df = pd.merge(ci_df,attributes_df,on=\"ci_id\")\n",
    "cp=ci_att_df.pivot(index=\"name\", columns=\"att_name\")\n",
    "cp.columns = ['ci_id','ci_id2','ci_id3','device_type','env','ip_address']\n",
    "cp.drop(columns=['ci_id2', 'ci_id3'], inplace=True)\n",
    "cp=cp.reset_index()\n",
    "cp.set_index('ci_id',inplace=True)\n",
    "cp.to_csv()"
   ]
  },
  {
   "cell_type": "code",
   "execution_count": 209,
   "metadata": {},
   "outputs": [
    {
     "data": {
      "text/plain": [
       "['att_name', 'att_value', 'name', 'ci_id']"
      ]
     },
     "execution_count": 209,
     "metadata": {},
     "output_type": "execute_result"
    }
   ],
   "source": [
    "list(set(ci_df.columns.to_list() + ci_att_df.columns.to_list()))\n"
   ]
  },
  {
   "cell_type": "code",
   "execution_count": 196,
   "metadata": {},
   "outputs": [
    {
     "data": {
      "text/plain": [
       "Index(['ci_id', 'name'], dtype='object')"
      ]
     },
     "execution_count": 196,
     "metadata": {},
     "output_type": "execute_result"
    }
   ],
   "source": [
    "ci_df.columns\n"
   ]
  },
  {
   "cell_type": "code",
   "execution_count": null,
   "metadata": {},
   "outputs": [],
   "source": []
  }
 ],
 "metadata": {
  "kernelspec": {
   "display_name": "Python 3.7.4 64-bit ('base': conda)",
   "language": "python",
   "name": "python37464bitbaseconda2147f1013f6e402daf27c64b9e09de2c"
  },
  "language_info": {
   "codemirror_mode": {
    "name": "ipython",
    "version": 3
   },
   "file_extension": ".py",
   "mimetype": "text/x-python",
   "name": "python",
   "nbconvert_exporter": "python",
   "pygments_lexer": "ipython3",
   "version": "3.7.4"
  }
 },
 "nbformat": 4,
 "nbformat_minor": 2
}
